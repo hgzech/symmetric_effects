{
  "cells": [
    {
      "metadata": {
        "trusted": true
      },
      "cell_type": "code",
      "source": "pip install seaborn --quiet\nimport functions\n%matplotlib inline\nfunctions.show_demo()",
      "execution_count": 1,
      "outputs": [
        {
          "output_type": "stream",
          "text": "   Intercept  b_0 Response  is_pull  b_1 Expression  is_happy  b_2  b_3\n0          1  400     Pull      0.5    0      Happy       0.5    0    0\n1          1  400     Pull      0.5    0      Angry      -0.5    0    0\n2          1  400     Push     -0.5    0      Happy       0.5    0    0\n3          1  400     Push     -0.5    0      Angry      -0.5    0    0\n",
          "name": "stdout"
        },
        {
          "output_type": "display_data",
          "data": {
            "application/vnd.jupyter.widget-view+json": {
              "model_id": "3cad0439a8154080810e6c738a8ce381",
              "version_minor": 0,
              "version_major": 2
            },
            "text/plain": "interactive(children=(FloatSlider(value=0.0, description='main_happy', min=-100.0, step=5.0), FloatSlider(valu…"
          },
          "metadata": {}
        }
      ]
    }
  ],
  "metadata": {
    "kernelspec": {
      "name": "python36",
      "display_name": "Python 3.6",
      "language": "python"
    },
    "language_info": {
      "mimetype": "text/x-python",
      "nbconvert_exporter": "python",
      "name": "python",
      "pygments_lexer": "ipython3",
      "version": "3.6.6",
      "file_extension": ".py",
      "codemirror_mode": {
        "version": 3,
        "name": "ipython"
      }
    }
  },
  "nbformat": 4,
  "nbformat_minor": 2
}
